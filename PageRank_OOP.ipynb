{
 "cells": [
  {
   "cell_type": "markdown",
   "metadata": {},
   "source": [
    "# Imports "
   ]
  },
  {
   "cell_type": "code",
   "execution_count": 1,
   "metadata": {},
   "outputs": [],
   "source": [
    "import warnings\n",
    "warnings.filterwarnings('ignore')\n",
    "\n",
    "import pandas as pd\n",
    "import numpy as np\n",
    "import matplotlib.pyplot as plt\n",
    "%matplotlib inline\n",
    "import seaborn as sns; sns.set()\n",
    "\n",
    "import networkx as nx\n",
    "import scipy.io\n",
    "import pickle\n",
    "from pagerank import PageRank "
   ]
  },
  {
   "cell_type": "code",
   "execution_count": 81,
   "metadata": {},
   "outputs": [],
   "source": [
    "sns.set_palette(palette='deep', n_colors=1)"
   ]
  },
  {
   "cell_type": "markdown",
   "metadata": {},
   "source": [
    "# Load datasets"
   ]
  },
  {
   "cell_type": "code",
   "execution_count": 2,
   "metadata": {},
   "outputs": [],
   "source": [
    "wiki_matrix = scipy.io.loadmat('simple_wiki_matrix.mat')['W']\n",
    "stan_graph = nx.read_edgelist(\"web-Stanford.txt\", create_using=nx.DiGraph(), nodetype=int)"
   ]
  },
  {
   "cell_type": "code",
   "execution_count": 3,
   "metadata": {},
   "outputs": [],
   "source": [
    "articles_ = []\n",
    "with open('simple_wiki_dict.pickle', 'rb') as f:\n",
    "    while True:\n",
    "        try:\n",
    "            temp = pickle._Unpickler(f)\n",
    "            temp.encoding = 'utf-8'\n",
    "            articles_.append(temp.load())\n",
    "        except EOFError:\n",
    "            break\n",
    "\n",
    "articles = articles_[0]"
   ]
  },
  {
   "cell_type": "markdown",
   "metadata": {},
   "source": [
    "# PageRank methods"
   ]
  },
  {
   "cell_type": "code",
   "execution_count": 4,
   "metadata": {},
   "outputs": [],
   "source": [
    "pr = PageRank(data=stan_graph)"
   ]
  },
  {
   "cell_type": "code",
   "execution_count": 5,
   "metadata": {},
   "outputs": [
    {
     "data": {
      "text/plain": [
       "<pagerank.PageRank at 0x1a579b9048>"
      ]
     },
     "execution_count": 5,
     "metadata": {},
     "output_type": "execute_result"
    }
   ],
   "source": [
    "pr.set_custom_attributes()"
   ]
  },
  {
   "cell_type": "markdown",
   "metadata": {},
   "source": [
    "## Power method"
   ]
  },
  {
   "cell_type": "code",
   "execution_count": 6,
   "metadata": {},
   "outputs": [],
   "source": [
    "n_iter = 200\n",
    "ranks, residuals1 = pr.power_method(x0=np.ones(pr.size) / pr.size, n_iter=n_iter, \n",
    "                                   return_residuals=True)"
   ]
  },
  {
   "cell_type": "code",
   "execution_count": 7,
   "metadata": {},
   "outputs": [
    {
     "data": {
      "text/html": [
       "<div>\n",
       "<style scoped>\n",
       "    .dataframe tbody tr th:only-of-type {\n",
       "        vertical-align: middle;\n",
       "    }\n",
       "\n",
       "    .dataframe tbody tr th {\n",
       "        vertical-align: top;\n",
       "    }\n",
       "\n",
       "    .dataframe thead th {\n",
       "        text-align: right;\n",
       "    }\n",
       "</style>\n",
       "<table border=\"1\" class=\"dataframe\">\n",
       "  <thead>\n",
       "    <tr style=\"text-align: right;\">\n",
       "      <th></th>\n",
       "      <th>Power Method</th>\n",
       "    </tr>\n",
       "    <tr>\n",
       "      <th>node_id</th>\n",
       "      <th></th>\n",
       "    </tr>\n",
       "  </thead>\n",
       "  <tbody>\n",
       "    <tr>\n",
       "      <th>89073</th>\n",
       "      <td>0.011303</td>\n",
       "    </tr>\n",
       "    <tr>\n",
       "      <th>226411</th>\n",
       "      <td>0.009268</td>\n",
       "    </tr>\n",
       "    <tr>\n",
       "      <th>241454</th>\n",
       "      <td>0.008297</td>\n",
       "    </tr>\n",
       "    <tr>\n",
       "      <th>262860</th>\n",
       "      <td>0.003023</td>\n",
       "    </tr>\n",
       "    <tr>\n",
       "      <th>134832</th>\n",
       "      <td>0.003001</td>\n",
       "    </tr>\n",
       "  </tbody>\n",
       "</table>\n",
       "</div>"
      ],
      "text/plain": [
       "         Power Method\n",
       "node_id              \n",
       "89073        0.011303\n",
       "226411       0.009268\n",
       "241454       0.008297\n",
       "262860       0.003023\n",
       "134832       0.003001"
      ]
     },
     "execution_count": 7,
     "metadata": {},
     "output_type": "execute_result"
    }
   ],
   "source": [
    "pr.show_ranks()"
   ]
  },
  {
   "cell_type": "markdown",
   "metadata": {},
   "source": [
    "## Markov chain Monte Carlo"
   ]
  },
  {
   "cell_type": "code",
   "execution_count": 8,
   "metadata": {},
   "outputs": [
    {
     "data": {
      "text/plain": [
       "<pagerank.PageRank at 0x1a579b9048>"
      ]
     },
     "execution_count": 8,
     "metadata": {},
     "output_type": "execute_result"
    }
   ],
   "source": [
    "pr.mcmc(n_iter=int(1e5))"
   ]
  },
  {
   "cell_type": "code",
   "execution_count": 9,
   "metadata": {},
   "outputs": [
    {
     "data": {
      "text/html": [
       "<div>\n",
       "<style scoped>\n",
       "    .dataframe tbody tr th:only-of-type {\n",
       "        vertical-align: middle;\n",
       "    }\n",
       "\n",
       "    .dataframe tbody tr th {\n",
       "        vertical-align: top;\n",
       "    }\n",
       "\n",
       "    .dataframe thead th {\n",
       "        text-align: right;\n",
       "    }\n",
       "</style>\n",
       "<table border=\"1\" class=\"dataframe\">\n",
       "  <thead>\n",
       "    <tr style=\"text-align: right;\">\n",
       "      <th></th>\n",
       "      <th>Power Method</th>\n",
       "      <th>MCMC</th>\n",
       "    </tr>\n",
       "    <tr>\n",
       "      <th>node_id</th>\n",
       "      <th></th>\n",
       "      <th></th>\n",
       "    </tr>\n",
       "  </thead>\n",
       "  <tbody>\n",
       "    <tr>\n",
       "      <th>89073</th>\n",
       "      <td>0.011303</td>\n",
       "      <td>0.01005</td>\n",
       "    </tr>\n",
       "    <tr>\n",
       "      <th>226411</th>\n",
       "      <td>0.009268</td>\n",
       "      <td>0.00918</td>\n",
       "    </tr>\n",
       "    <tr>\n",
       "      <th>241454</th>\n",
       "      <td>0.008297</td>\n",
       "      <td>0.00827</td>\n",
       "    </tr>\n",
       "    <tr>\n",
       "      <th>262860</th>\n",
       "      <td>0.003023</td>\n",
       "      <td>0.00285</td>\n",
       "    </tr>\n",
       "    <tr>\n",
       "      <th>134832</th>\n",
       "      <td>0.003001</td>\n",
       "      <td>0.00251</td>\n",
       "    </tr>\n",
       "  </tbody>\n",
       "</table>\n",
       "</div>"
      ],
      "text/plain": [
       "         Power Method     MCMC\n",
       "node_id                       \n",
       "89073        0.011303  0.01005\n",
       "226411       0.009268  0.00918\n",
       "241454       0.008297  0.00827\n",
       "262860       0.003023  0.00285\n",
       "134832       0.003001  0.00251"
      ]
     },
     "execution_count": 9,
     "metadata": {},
     "output_type": "execute_result"
    }
   ],
   "source": [
    "pr.show_ranks(5, sort_by='MCMC')"
   ]
  },
  {
   "cell_type": "markdown",
   "metadata": {},
   "source": [
    "## Frank-Wolfe"
   ]
  },
  {
   "cell_type": "code",
   "execution_count": 50,
   "metadata": {},
   "outputs": [],
   "source": [
    "n_iter = 1000\n",
    "ranks, targets1_ls, residuals = pr.frank_wolfe(x0=np.ones(pr.size) / pr.size,\n",
    "                                           n_iter=n_iter, \n",
    "                                           step='line_search', \n",
    "                                           return_targets=True, \n",
    "                                           return_residuals=False)"
   ]
  },
  {
   "cell_type": "code",
   "execution_count": 51,
   "metadata": {},
   "outputs": [],
   "source": [
    "n_iter = 1000\n",
    "ranks, targets1_na, residuals = pr.frank_wolfe(x0=np.ones(pr.size) / pr.size,\n",
    "                                           n_iter=n_iter, \n",
    "                                           step='nonadaptive', \n",
    "                                           return_targets=True, \n",
    "                                           return_residuals=False)"
   ]
  },
  {
   "cell_type": "code",
   "execution_count": 45,
   "metadata": {},
   "outputs": [
    {
     "data": {
      "text/plain": [
       "1000"
      ]
     },
     "execution_count": 45,
     "metadata": {},
     "output_type": "execute_result"
    }
   ],
   "source": [
    "len(targets)"
   ]
  },
  {
   "cell_type": "code",
   "execution_count": 46,
   "metadata": {},
   "outputs": [
    {
     "data": {
      "text/plain": [
       "Text(0.5,0,'Iterations')"
      ]
     },
     "execution_count": 46,
     "metadata": {},
     "output_type": "execute_result"
    },
    {
     "data": {
      "image/png": "[encoded data removed]",
      "text/plain": [
       "<matplotlib.figure.Figure at 0x1a64898d68>"
      ]
     },
     "metadata": {},
     "output_type": "display_data"
    }
   ],
   "source": [
    "n_last = n_iter\n",
    "plt.plot(np.log(np.arange(1, n_iter + 1)) / np.log(10), \n",
    "         np.log(targets) / np.log(10))\n",
    "plt.title('Targets', fontsize=15)\n",
    "plt.xlabel('Iterations')"
   ]
  },
  {
   "cell_type": "code",
   "execution_count": 49,
   "metadata": {},
   "outputs": [
    {
     "name": "stdout",
     "output_type": "stream",
     "text": [
      "-0.6822881829973094\n"
     ]
    }
   ],
   "source": [
    "from sklearn.linear_model import LinearRegression\n",
    "\n",
    "model = LinearRegression()\n",
    "model.fit(np.log(np.arange(1, n_iter + 1)[1:1000]).reshape(-1, 1), \n",
    "          np.log(targets[1:1000]).reshape(-1, 1))\n",
    "print(model.coef_[0, 0])\n",
    "k1 = model.coef_[0, 0]"
   ]
  },
  {
   "cell_type": "code",
   "execution_count": 16,
   "metadata": {},
   "outputs": [
    {
     "data": {
      "text/html": [
       "<div>\n",
       "<style scoped>\n",
       "    .dataframe tbody tr th:only-of-type {\n",
       "        vertical-align: middle;\n",
       "    }\n",
       "\n",
       "    .dataframe tbody tr th {\n",
       "        vertical-align: top;\n",
       "    }\n",
       "\n",
       "    .dataframe thead th {\n",
       "        text-align: right;\n",
       "    }\n",
       "</style>\n",
       "<table border=\"1\" class=\"dataframe\">\n",
       "  <thead>\n",
       "    <tr style=\"text-align: right;\">\n",
       "      <th></th>\n",
       "      <th>Power Method</th>\n",
       "      <th>MCMC</th>\n",
       "      <th>Frank-Wolfe</th>\n",
       "    </tr>\n",
       "    <tr>\n",
       "      <th>node_id</th>\n",
       "      <th></th>\n",
       "      <th></th>\n",
       "      <th></th>\n",
       "    </tr>\n",
       "  </thead>\n",
       "  <tbody>\n",
       "    <tr>\n",
       "      <th>89073</th>\n",
       "      <td>0.011303</td>\n",
       "      <td>0.01005</td>\n",
       "      <td>0.014978</td>\n",
       "    </tr>\n",
       "    <tr>\n",
       "      <th>226411</th>\n",
       "      <td>0.009268</td>\n",
       "      <td>0.00918</td>\n",
       "      <td>0.017018</td>\n",
       "    </tr>\n",
       "    <tr>\n",
       "      <th>241454</th>\n",
       "      <td>0.008297</td>\n",
       "      <td>0.00827</td>\n",
       "      <td>0.013002</td>\n",
       "    </tr>\n",
       "    <tr>\n",
       "      <th>262860</th>\n",
       "      <td>0.003023</td>\n",
       "      <td>0.00285</td>\n",
       "      <td>0.001480</td>\n",
       "    </tr>\n",
       "    <tr>\n",
       "      <th>134832</th>\n",
       "      <td>0.003001</td>\n",
       "      <td>0.00251</td>\n",
       "      <td>0.006751</td>\n",
       "    </tr>\n",
       "  </tbody>\n",
       "</table>\n",
       "</div>"
      ],
      "text/plain": [
       "         Power Method     MCMC  Frank-Wolfe\n",
       "node_id                                    \n",
       "89073        0.011303  0.01005     0.014978\n",
       "226411       0.009268  0.00918     0.017018\n",
       "241454       0.008297  0.00827     0.013002\n",
       "262860       0.003023  0.00285     0.001480\n",
       "134832       0.003001  0.00251     0.006751"
      ]
     },
     "execution_count": 16,
     "metadata": {},
     "output_type": "execute_result"
    }
   ],
   "source": [
    "pr.show_ranks()"
   ]
  },
  {
   "cell_type": "code",
   "execution_count": 13,
   "metadata": {},
   "outputs": [
    {
     "data": {
      "text/plain": [
       "0.017610484492370473"
      ]
     },
     "execution_count": 13,
     "metadata": {},
     "output_type": "execute_result"
    }
   ],
   "source": [
    "np.linalg.norm(pr.fw_ranks - pr.pm_ranks)"
   ]
  },
  {
   "cell_type": "code",
   "execution_count": 17,
   "metadata": {},
   "outputs": [
    {
     "data": {
      "text/plain": [
       "0.016087932475620334"
      ]
     },
     "execution_count": 17,
     "metadata": {},
     "output_type": "execute_result"
    }
   ],
   "source": [
    "np.linalg.norm(pr.fw_ranks - pr.pm_ranks)"
   ]
  },
  {
   "cell_type": "markdown",
   "metadata": {},
   "source": [
    "# English Wikipedia"
   ]
  },
  {
   "cell_type": "markdown",
   "metadata": {},
   "source": [
    "## Compute"
   ]
  },
  {
   "cell_type": "code",
   "execution_count": 53,
   "metadata": {},
   "outputs": [],
   "source": [
    "wiki = PageRank(data=wiki_matrix)"
   ]
  },
  {
   "cell_type": "code",
   "execution_count": 54,
   "metadata": {},
   "outputs": [
    {
     "data": {
      "text/plain": [
       "<pagerank.PageRank at 0x1a648ee4a8>"
      ]
     },
     "execution_count": 54,
     "metadata": {},
     "output_type": "execute_result"
    }
   ],
   "source": [
    "wiki.set_custom_attributes()"
   ]
  },
  {
   "cell_type": "code",
   "execution_count": 55,
   "metadata": {},
   "outputs": [],
   "source": [
    "x0 = np.random.uniform(size=wiki.size)\n",
    "x0 /= np.linalg.norm(x0, ord=1)\n",
    "n_iter = 200\n",
    "ranks, residuals2 = wiki.power_method(x0=x0, n_iter=n_iter, return_residuals=True)"
   ]
  },
  {
   "cell_type": "code",
   "execution_count": 56,
   "metadata": {},
   "outputs": [
    {
     "data": {
      "text/plain": [
       "<pagerank.PageRank at 0x1a648ee4a8>"
      ]
     },
     "execution_count": 56,
     "metadata": {},
     "output_type": "execute_result"
    }
   ],
   "source": [
    "wiki.mcmc(n_iter=int(1e5))"
   ]
  },
  {
   "cell_type": "code",
   "execution_count": 57,
   "metadata": {},
   "outputs": [
    {
     "data": {
      "text/html": [
       "<div>\n",
       "<style scoped>\n",
       "    .dataframe tbody tr th:only-of-type {\n",
       "        vertical-align: middle;\n",
       "    }\n",
       "\n",
       "    .dataframe tbody tr th {\n",
       "        vertical-align: top;\n",
       "    }\n",
       "\n",
       "    .dataframe thead th {\n",
       "        text-align: right;\n",
       "    }\n",
       "</style>\n",
       "<table border=\"1\" class=\"dataframe\">\n",
       "  <thead>\n",
       "    <tr style=\"text-align: right;\">\n",
       "      <th></th>\n",
       "      <th>Power Method</th>\n",
       "      <th>MCMC</th>\n",
       "    </tr>\n",
       "    <tr>\n",
       "      <th>node_id</th>\n",
       "      <th></th>\n",
       "      <th></th>\n",
       "    </tr>\n",
       "  </thead>\n",
       "  <tbody>\n",
       "    <tr>\n",
       "      <th>880</th>\n",
       "      <td>0.002905</td>\n",
       "      <td>0.00327</td>\n",
       "    </tr>\n",
       "    <tr>\n",
       "      <th>69741</th>\n",
       "      <td>0.002068</td>\n",
       "      <td>0.00226</td>\n",
       "    </tr>\n",
       "    <tr>\n",
       "      <th>113673</th>\n",
       "      <td>0.001544</td>\n",
       "      <td>0.00170</td>\n",
       "    </tr>\n",
       "    <tr>\n",
       "      <th>486</th>\n",
       "      <td>0.001356</td>\n",
       "      <td>0.00138</td>\n",
       "    </tr>\n",
       "    <tr>\n",
       "      <th>34525</th>\n",
       "      <td>0.001286</td>\n",
       "      <td>0.00139</td>\n",
       "    </tr>\n",
       "  </tbody>\n",
       "</table>\n",
       "</div>"
      ],
      "text/plain": [
       "         Power Method     MCMC\n",
       "node_id                       \n",
       "880          0.002905  0.00327\n",
       "69741        0.002068  0.00226\n",
       "113673       0.001544  0.00170\n",
       "486          0.001356  0.00138\n",
       "34525        0.001286  0.00139"
      ]
     },
     "execution_count": 57,
     "metadata": {},
     "output_type": "execute_result"
    }
   ],
   "source": [
    "wiki.show_ranks()"
   ]
  },
  {
   "cell_type": "code",
   "execution_count": 112,
   "metadata": {},
   "outputs": [],
   "source": [
    "ranks, targets2_ls, residuals = wiki.frank_wolfe(x0, n_iter=1000, \n",
    "                                                 step='line_search', \n",
    "                                                 return_targets=True, \n",
    "                                                 return_residuals=True)"
   ]
  },
  {
   "cell_type": "code",
   "execution_count": 59,
   "metadata": {},
   "outputs": [],
   "source": [
    "ranks, targets2_na, residuals = wiki.frank_wolfe(x0, n_iter=1000, \n",
    "                                                 step='nonadaptive', \n",
    "                                                 return_targets=True, \n",
    "                                                 return_residuals=True)"
   ]
  },
  {
   "cell_type": "markdown",
   "metadata": {},
   "source": [
    "## Results"
   ]
  },
  {
   "cell_type": "code",
   "execution_count": 55,
   "metadata": {},
   "outputs": [],
   "source": [
    "pm_top_indeces = np.array(list(wiki.show_ranks(sort_by='Power Method').index)) - 1\n",
    "mcmc_top_indeces = np.array(list(wiki.show_ranks(sort_by='MCMC').index)) - 1\n",
    "fw_top_indeces = np.array(list(wiki.show_ranks(sort_by='Frank-Wolfe').index)) - 1"
   ]
  },
  {
   "cell_type": "code",
   "execution_count": 60,
   "metadata": {},
   "outputs": [
    {
     "name": "stdout",
     "output_type": "stream",
     "text": [
      "------- TOP WIKI-ARTICLES ACCORDING TO POWER METHOD!!! -------\n",
      "\n",
      "1. United_States\n",
      "2. Multimedia\n",
      "3. Geographic_coordinate_system\n",
      "4. France\n",
      "5. Americans\n",
      "\n",
      "------- TOP WIKI-ARTICLES ACCORDING TO MCMC!!! -------\n",
      "\n",
      "1. United_States\n",
      "2. Multimedia\n",
      "3. Geographic_coordinate_system\n",
      "4. France\n",
      "5. Americans\n",
      "\n",
      "------- TOP WIKI-ARTICLES ACCORDING TO FRANK-WOLFE!!! -------\n",
      "\n",
      "1. United_States\n",
      "2. Multimedia\n",
      "3. Americans\n",
      "4. France\n",
      "5. Geographic_coordinate_system\n",
      "\n"
     ]
    }
   ],
   "source": [
    "print('------- TOP WIKI-ARTICLES ACCORDING TO POWER METHOD!!! -------')\n",
    "print()\n",
    "for i in range(len(pm_top_indeces)):\n",
    "    print(\"{}. {}\".format(i + 1, articles[pm_top_indeces[i]]))\n",
    "print()\n",
    "\n",
    "print('------- TOP WIKI-ARTICLES ACCORDING TO MCMC!!! -------')\n",
    "print()\n",
    "for i in range(len(mcmc_top_indeces)):\n",
    "    print(\"{}. {}\".format(i + 1, articles[mcmc_top_indeces[i]]))\n",
    "print()\n",
    "\n",
    "print('------- TOP WIKI-ARTICLES ACCORDING TO FRANK-WOLFE!!! -------')\n",
    "print()\n",
    "for i in range(len(fw_top_indeces)):\n",
    "    print(\"{}. {}\".format(i + 1, articles[fw_top_indeces[i]]))\n",
    "print()"
   ]
  },
  {
   "cell_type": "code",
   "execution_count": 113,
   "metadata": {},
   "outputs": [
    {
     "data": {
      "text/html": [
       "<div>\n",
       "<style scoped>\n",
       "    .dataframe tbody tr th:only-of-type {\n",
       "        vertical-align: middle;\n",
       "    }\n",
       "\n",
       "    .dataframe tbody tr th {\n",
       "        vertical-align: top;\n",
       "    }\n",
       "\n",
       "    .dataframe thead th {\n",
       "        text-align: right;\n",
       "    }\n",
       "</style>\n",
       "<table border=\"1\" class=\"dataframe\">\n",
       "  <thead>\n",
       "    <tr style=\"text-align: right;\">\n",
       "      <th></th>\n",
       "      <th>Power Method</th>\n",
       "      <th>MCMC</th>\n",
       "      <th>Frank-Wolfe</th>\n",
       "    </tr>\n",
       "    <tr>\n",
       "      <th>Article</th>\n",
       "      <th></th>\n",
       "      <th></th>\n",
       "      <th></th>\n",
       "    </tr>\n",
       "  </thead>\n",
       "  <tbody>\n",
       "    <tr>\n",
       "      <th>United_States</th>\n",
       "      <td>0.002905</td>\n",
       "      <td>0.00327</td>\n",
       "      <td>0.004501</td>\n",
       "    </tr>\n",
       "    <tr>\n",
       "      <th>Multimedia</th>\n",
       "      <td>0.002068</td>\n",
       "      <td>0.00226</td>\n",
       "      <td>0.002472</td>\n",
       "    </tr>\n",
       "    <tr>\n",
       "      <th>Geographic_coordinate_system</th>\n",
       "      <td>0.001544</td>\n",
       "      <td>0.00170</td>\n",
       "      <td>0.002145</td>\n",
       "    </tr>\n",
       "    <tr>\n",
       "      <th>France</th>\n",
       "      <td>0.001356</td>\n",
       "      <td>0.00138</td>\n",
       "      <td>0.002190</td>\n",
       "    </tr>\n",
       "    <tr>\n",
       "      <th>Americans</th>\n",
       "      <td>0.001286</td>\n",
       "      <td>0.00139</td>\n",
       "      <td>0.002200</td>\n",
       "    </tr>\n",
       "  </tbody>\n",
       "</table>\n",
       "</div>"
      ],
      "text/plain": [
       "                              Power Method     MCMC  Frank-Wolfe\n",
       "Article                                                         \n",
       "United_States                     0.002905  0.00327     0.004501\n",
       "Multimedia                        0.002068  0.00226     0.002472\n",
       "Geographic_coordinate_system      0.001544  0.00170     0.002145\n",
       "France                            0.001356  0.00138     0.002190\n",
       "Americans                         0.001286  0.00139     0.002200"
      ]
     },
     "execution_count": 113,
     "metadata": {},
     "output_type": "execute_result"
    }
   ],
   "source": [
    "df = wiki.show_ranks(n_first=wiki.size)\n",
    "df.sort_index(inplace=True)\n",
    "df['Article'] = list(articles.values())\n",
    "df.sort_values(by='Power Method', ascending=False, inplace=True)\n",
    "df.set_index('Article', inplace=True)\n",
    "df.head()"
   ]
  },
  {
   "cell_type": "code",
   "execution_count": 115,
   "metadata": {},
   "outputs": [],
   "source": [
    "df.head().to_latex('top5.tex')"
   ]
  },
  {
   "cell_type": "markdown",
   "metadata": {},
   "source": [
    "# Visualization"
   ]
  },
  {
   "cell_type": "code",
   "execution_count": 37,
   "metadata": {},
   "outputs": [
    {
     "data": {
      "image/png": "[encoded data removed]",
      "text/plain": [
       "<matplotlib.figure.Figure at 0x1ac599c240>"
      ]
     },
     "metadata": {},
     "output_type": "display_data"
    }
   ],
   "source": [
    "n_iter = 200\n",
    "n_last = 200\n",
    "plt.figure(figsize=(8, 6))\n",
    "plt.plot(np.log(np.arange(n_iter - n_last, n_iter)) / np.log(10), \n",
    "         np.log(residuals1[-n_last:]) / np.log(10), \n",
    "         lw=3, label=\"Stanford's graph\")\n",
    "plt.plot(np.log(np.arange(n_iter - n_last, n_iter)) / np.log(10), \n",
    "         np.log(residuals2[-n_last:]) / np.log(10), \n",
    "         lw=3, color='darkorange',\n",
    "         label=\"Wiki-graph\")\n",
    "plt.title('Power method residuals in logarithmic scale', fontsize=18)\n",
    "plt.xlabel('$\\log\\ k$', fontsize=15)\n",
    "plt.ylabel('$\\log\\ ||x_k - x_{k+1}||_1$', fontsize=15)\n",
    "plt.legend(fontsize=12)\n",
    "plt.savefig('pm_residuals.pdf')"
   ]
  },
  {
   "cell_type": "code",
   "execution_count": 102,
   "metadata": {},
   "outputs": [
    {
     "name": "stdout",
     "output_type": "stream",
     "text": [
      "-0.4987419669233175\n",
      "-0.4891991730661198\n"
     ]
    }
   ],
   "source": [
    "from sklearn.linear_model import LinearRegression\n",
    "\n",
    "model = LinearRegression()\n",
    "model.fit(np.log(100 * np.arange(1, len(pr.mcmc_deviations) + 1)).reshape(-1, 1), \n",
    "          np.log(np.array(pr.mcmc_deviations)).reshape(-1, 1))\n",
    "print(model.coef_[0, 0])\n",
    "k1 = model.coef_[0, 0]\n",
    "\n",
    "model.fit(np.log(100 * np.arange(1, len(wiki.mcmc_deviations) + 1)).reshape(-1, 1), \n",
    "          np.log(np.array(wiki.mcmc_deviations)).reshape(-1, 1))\n",
    "print(model.coef_[0, 0])\n",
    "k2 = model.coef_[0, 0]"
   ]
  },
  {
   "cell_type": "code",
   "execution_count": 128,
   "metadata": {},
   "outputs": [
    {
     "data": {
      "image/png": "[encoded data removed]",
      "text/plain": [
       "<matplotlib.figure.Figure at 0x1a7e41dc88>"
      ]
     },
     "metadata": {},
     "output_type": "display_data"
    }
   ],
   "source": [
    "plt.figure(figsize=(8, 6))\n",
    "plt.plot(np.log(100 * np.arange(1, len(pr.mcmc_deviations) + 1)) / np.log(10), \n",
    "         np.log(np.array(pr.mcmc_deviations)) / np.log(10), \n",
    "         lw=3, \n",
    "         label=\"Stanford's graph: slope = {}\".format(round(k1, 3)))\n",
    "plt.plot(np.log(100 * np.arange(1, len(wiki.mcmc_deviations) + 1)) / np.log(10), \n",
    "         np.log(np.array(wiki.mcmc_deviations)) / np.log(10), \n",
    "         lw=3, color='darkorange',\n",
    "         label=\"Wiki-graph: slope = {}\".format(round(k2, 3)))\n",
    "plt.title('MCMC errors on each 100th step in logarithmic scale', fontsize=18)\n",
    "plt.xlabel('$\\log\\ k$', fontsize=15)\n",
    "plt.ylabel('$log\\ ||x_k - x^*||_2$', fontsize=15)\n",
    "plt.legend(fontsize=12)\n",
    "plt.savefig('mcmc_errors.pdf')"
   ]
  },
  {
   "cell_type": "code",
   "execution_count": 84,
   "metadata": {},
   "outputs": [
    {
     "data": {
      "image/png": "[encoded data removed]",
      "text/plain": [
       "<matplotlib.figure.Figure at 0x1aca040dd8>"
      ]
     },
     "metadata": {},
     "output_type": "display_data"
    }
   ],
   "source": [
    "plt.figure(figsize=(8, 6))\n",
    "plt.plot(np.log(np.arange(2, len(targets1_na) + 1)) / np.log(10), \n",
    "         np.log(targets1_na[1:]) / np.log(10), lw=3,\n",
    "         label=\"Stanford's graph, nonadaptive step choise\")\n",
    "plt.plot(np.log(np.arange(2, len(targets1_na) + 1)) / np.log(10), \n",
    "         np.log(targets1_ls[1:]) / np.log(10), lw=3, ls='--',\n",
    "         label=\"Stanford's graph, line search\")\n",
    "plt.plot(np.log(np.arange(2, len(targets1_na) + 1)) / np.log(10), \n",
    "         np.log(targets2_na[1:]) / np.log(10), lw=3, c='darkorange',\n",
    "         label=\"Wiki-graph, nonadaptive step choise\")\n",
    "plt.plot(np.log(np.arange(2, len(targets1_na) + 1)) / np.log(10), \n",
    "         np.log(targets2_ls[1:]) / np.log(10), lw=3, ls='--', c='darkorange',\n",
    "         label=\"Wiki-graph, line search\")\n",
    "plt.title('Frank-Wolfe targets in logarithmic scale', fontsize=18)\n",
    "plt.xlabel('$\\log\\ k$', fontsize=15)\n",
    "plt.ylabel('$log\\ |f(x_k)|$', fontsize=15)\n",
    "plt.legend(fontsize=12)\n",
    "plt.savefig('frank_wolfe_targets.pdf')"
   ]
  },
  {
   "cell_type": "code",
   "execution_count": null,
   "metadata": {},
   "outputs": [],
   "source": []
  }
 ],
 "metadata": {
  "kernelspec": {
   "display_name": "Python 3",
   "language": "python",
   "name": "python3"
  },
  "language_info": {
   "codemirror_mode": {
    "name": "ipython",
    "version": 3
   },
   "file_extension": ".py",
   "mimetype": "text/x-python",
   "name": "python",
   "nbconvert_exporter": "python",
   "pygments_lexer": "ipython3",
   "version": "3.6.4"
  },
  "toc": {
   "nav_menu": {},
   "number_sections": false,
   "sideBar": true,
   "skip_h1_title": false,
   "title_cell": "Table of Contents",
   "title_sidebar": "Contents",
   "toc_cell": false,
   "toc_position": {
    "height": "calc(100% - 180px)",
    "left": "10px",
    "top": "150px",
    "width": "199px"
   },
   "toc_section_display": true,
   "toc_window_display": true
  }
 },
 "nbformat": 4,
 "nbformat_minor": 2
}
