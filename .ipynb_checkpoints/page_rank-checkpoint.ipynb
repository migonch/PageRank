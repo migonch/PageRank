{
 "cells": [
  {
   "cell_type": "markdown",
   "metadata": {},
   "source": [
    "# Imports "
   ]
  },
  {
   "cell_type": "code",
   "execution_count": 1,
   "metadata": {},
   "outputs": [],
   "source": [
    "%load_ext autoreload\n",
    "%autoreload 2\n",
    "\n",
    "import warnings\n",
    "warnings.filterwarnings('ignore')\n",
    "\n",
    "import pandas as pd\n",
    "import numpy as np\n",
    "import matplotlib.pyplot as plt\n",
    "%matplotlib inline\n",
    "import seaborn as sns; sns.set()\n",
    "\n",
    "import networkx as nx\n",
    "import scipy.io\n",
    "import pickle\n",
    "from pagerank import PageRankGraph"
   ]
  },
  {
   "cell_type": "code",
   "execution_count": 2,
   "metadata": {},
   "outputs": [],
   "source": [
    "sns.set_palette(palette='deep', n_colors=1)"
   ]
  },
  {
   "cell_type": "markdown",
   "metadata": {},
   "source": [
    "# Load datasets"
   ]
  },
  {
   "cell_type": "code",
   "execution_count": 3,
   "metadata": {},
   "outputs": [],
   "source": [
    "wiki_matrix = scipy.io.loadmat('data/simple_wiki_matrix.mat')['W']\n",
    "stan_graph = nx.read_edgelist(\"data/web-Stanford.txt\", create_using=nx.DiGraph(), nodetype=int)"
   ]
  },
  {
   "cell_type": "code",
   "execution_count": 4,
   "metadata": {},
   "outputs": [],
   "source": [
    "articles_ = []\n",
    "with open('data/simple_wiki_dict.pickle', 'rb') as f:\n",
    "    while True:\n",
    "        try:\n",
    "            temp = pickle._Unpickler(f)\n",
    "            temp.encoding = 'utf-8'\n",
    "            articles_.append(temp.load())\n",
    "        except EOFError:\n",
    "            break\n",
    "\n",
    "articles = articles_[0]"
   ]
  },
  {
   "cell_type": "markdown",
   "metadata": {},
   "source": [
    "# PageRank methods"
   ]
  },
  {
   "cell_type": "code",
   "execution_count": 5,
   "metadata": {},
   "outputs": [],
   "source": [
    "prg = PageRankGraph(data=stan_graph)"
   ]
  },
  {
   "cell_type": "code",
   "execution_count": 16,
   "metadata": {},
   "outputs": [],
   "source": [
    "df = pd.DataFrame(index=np.arange(1, prg.size + 1))"
   ]
  },
  {
   "cell_type": "markdown",
   "metadata": {},
   "source": [
    "## Power method"
   ]
  },
  {
   "cell_type": "code",
   "execution_count": 8,
   "metadata": {},
   "outputs": [],
   "source": [
    "n_iter = 200\n",
    "pm_ranks, pm_residuals = prg.power_method(x0=np.ones(prg.size) / prg.size, n_iter=n_iter, return_residuals=True)"
   ]
  },
  {
   "cell_type": "code",
   "execution_count": 18,
   "metadata": {},
   "outputs": [
    {
     "data": {
      "text/html": [
       "<div>\n",
       "<style scoped>\n",
       "    .dataframe tbody tr th:only-of-type {\n",
       "        vertical-align: middle;\n",
       "    }\n",
       "\n",
       "    .dataframe tbody tr th {\n",
       "        vertical-align: top;\n",
       "    }\n",
       "\n",
       "    .dataframe thead th {\n",
       "        text-align: right;\n",
       "    }\n",
       "</style>\n",
       "<table border=\"1\" class=\"dataframe\">\n",
       "  <thead>\n",
       "    <tr style=\"text-align: right;\">\n",
       "      <th></th>\n",
       "      <th>Power method ranks</th>\n",
       "    </tr>\n",
       "  </thead>\n",
       "  <tbody>\n",
       "    <tr>\n",
       "      <th>89073</th>\n",
       "      <td>0.011303</td>\n",
       "    </tr>\n",
       "    <tr>\n",
       "      <th>226411</th>\n",
       "      <td>0.009268</td>\n",
       "    </tr>\n",
       "    <tr>\n",
       "      <th>241454</th>\n",
       "      <td>0.008297</td>\n",
       "    </tr>\n",
       "    <tr>\n",
       "      <th>262860</th>\n",
       "      <td>0.003023</td>\n",
       "    </tr>\n",
       "    <tr>\n",
       "      <th>134832</th>\n",
       "      <td>0.003001</td>\n",
       "    </tr>\n",
       "  </tbody>\n",
       "</table>\n",
       "</div>"
      ],
      "text/plain": [
       "        Power method ranks\n",
       "89073             0.011303\n",
       "226411            0.009268\n",
       "241454            0.008297\n",
       "262860            0.003023\n",
       "134832            0.003001"
      ]
     },
     "execution_count": 18,
     "metadata": {},
     "output_type": "execute_result"
    }
   ],
   "source": [
    "df['Power method ranks'] = pm_ranks\n",
    "df.sort_values(by='Power method ranks', ascending=False).head()"
   ]
  },
  {
   "cell_type": "markdown",
   "metadata": {},
   "source": [
    "## Markov chain Monte Carlo"
   ]
  },
  {
   "cell_type": "code",
   "execution_count": 20,
   "metadata": {},
   "outputs": [],
   "source": [
    "mcmc_ranks = prg.mcmc(n_iter=int(1e5))"
   ]
  },
  {
   "cell_type": "code",
   "execution_count": 23,
   "metadata": {},
   "outputs": [
    {
     "data": {
      "text/html": [
       "<div>\n",
       "<style scoped>\n",
       "    .dataframe tbody tr th:only-of-type {\n",
       "        vertical-align: middle;\n",
       "    }\n",
       "\n",
       "    .dataframe tbody tr th {\n",
       "        vertical-align: top;\n",
       "    }\n",
       "\n",
       "    .dataframe thead th {\n",
       "        text-align: right;\n",
       "    }\n",
       "</style>\n",
       "<table border=\"1\" class=\"dataframe\">\n",
       "  <thead>\n",
       "    <tr style=\"text-align: right;\">\n",
       "      <th></th>\n",
       "      <th>Power method ranks</th>\n",
       "      <th>MCMC ranks</th>\n",
       "    </tr>\n",
       "  </thead>\n",
       "  <tbody>\n",
       "    <tr>\n",
       "      <th>89073</th>\n",
       "      <td>0.011303</td>\n",
       "      <td>0.01098</td>\n",
       "    </tr>\n",
       "    <tr>\n",
       "      <th>226411</th>\n",
       "      <td>0.009268</td>\n",
       "      <td>0.00949</td>\n",
       "    </tr>\n",
       "    <tr>\n",
       "      <th>241454</th>\n",
       "      <td>0.008297</td>\n",
       "      <td>0.00861</td>\n",
       "    </tr>\n",
       "    <tr>\n",
       "      <th>134832</th>\n",
       "      <td>0.003001</td>\n",
       "      <td>0.00320</td>\n",
       "    </tr>\n",
       "    <tr>\n",
       "      <th>262860</th>\n",
       "      <td>0.003023</td>\n",
       "      <td>0.00288</td>\n",
       "    </tr>\n",
       "  </tbody>\n",
       "</table>\n",
       "</div>"
      ],
      "text/plain": [
       "        Power method ranks  MCMC ranks\n",
       "89073             0.011303     0.01098\n",
       "226411            0.009268     0.00949\n",
       "241454            0.008297     0.00861\n",
       "134832            0.003001     0.00320\n",
       "262860            0.003023     0.00288"
      ]
     },
     "execution_count": 23,
     "metadata": {},
     "output_type": "execute_result"
    }
   ],
   "source": [
    "df['MCMC ranks'] = mcmc_ranks\n",
    "df.sort_values(by='MCMC ranks', ascending=False).head()"
   ]
  },
  {
   "cell_type": "markdown",
   "metadata": {},
   "source": [
    "## Frank-Wolfe"
   ]
  },
  {
   "cell_type": "code",
   "execution_count": 27,
   "metadata": {},
   "outputs": [],
   "source": [
    "n_iter = 1000\n",
    "fw_ranks, fw_targets, fw_residuals = prg.frank_wolfe(x0=np.ones(prg.size)/prg.size, \n",
    "                                                    n_iter=n_iter, step='line_search', \n",
    "                                                    return_targets=True, return_residuals=False)\n"
   ]
  },
  {
   "cell_type": "code",
   "execution_count": 29,
   "metadata": {},
   "outputs": [
    {
     "data": {
      "text/plain": [
       "1000"
      ]
     },
     "execution_count": 29,
     "metadata": {},
     "output_type": "execute_result"
    }
   ],
   "source": [
    "len(fw_targets)"
   ]
  },
  {
   "cell_type": "code",
   "execution_count": 32,
   "metadata": {},
   "outputs": [
    {
     "data": {
      "text/plain": [
       "Text(0.5,0,'Iterations')"
      ]
     },
     "execution_count": 32,
     "metadata": {},
     "output_type": "execute_result"
    },
    {
     "data": {
      "image/png": "[encoded data removed]",
      "text/plain": [
       "<matplotlib.figure.Figure at 0x1a581919b0>"
      ]
     },
     "metadata": {},
     "output_type": "display_data"
    }
   ],
   "source": [
    "n_last = n_iter\n",
    "plt.plot(np.log(np.arange(n_iter - n_last, n_iter)) / np.log(10), np.log(fw_targets[-n_last:]) / np.log(10))\n",
    "plt.title('Targets', fontsize=15)\n",
    "plt.xlabel('Iterations')"
   ]
  },
  {
   "cell_type": "code",
   "execution_count": 37,
   "metadata": {},
   "outputs": [
    {
     "data": {
      "text/plain": [
       "array([[-0.68042557]])"
      ]
     },
     "execution_count": 37,
     "metadata": {},
     "output_type": "execute_result"
    }
   ],
   "source": [
    "from sklearn.linear_model import LinearRegression\n",
    "\n",
    "model = LinearRegression()\n",
    "model.fit(np.log(np.arange(1, n_iter + 1)).reshape(-1, 1), np.log(fw_targets).reshape(-1, 1))\n",
    "model.coef_"
   ]
  },
  {
   "cell_type": "code",
   "execution_count": 38,
   "metadata": {},
   "outputs": [
    {
     "data": {
      "text/html": [
       "<div>\n",
       "<style scoped>\n",
       "    .dataframe tbody tr th:only-of-type {\n",
       "        vertical-align: middle;\n",
       "    }\n",
       "\n",
       "    .dataframe tbody tr th {\n",
       "        vertical-align: top;\n",
       "    }\n",
       "\n",
       "    .dataframe thead th {\n",
       "        text-align: right;\n",
       "    }\n",
       "</style>\n",
       "<table border=\"1\" class=\"dataframe\">\n",
       "  <thead>\n",
       "    <tr style=\"text-align: right;\">\n",
       "      <th></th>\n",
       "      <th>Power method ranks</th>\n",
       "      <th>MCMC ranks</th>\n",
       "      <th>Frank-Wolfe ranks</th>\n",
       "    </tr>\n",
       "  </thead>\n",
       "  <tbody>\n",
       "    <tr>\n",
       "      <th>226411</th>\n",
       "      <td>0.009268</td>\n",
       "      <td>0.00949</td>\n",
       "      <td>0.017018</td>\n",
       "    </tr>\n",
       "    <tr>\n",
       "      <th>89073</th>\n",
       "      <td>0.011303</td>\n",
       "      <td>0.01098</td>\n",
       "      <td>0.014978</td>\n",
       "    </tr>\n",
       "    <tr>\n",
       "      <th>241454</th>\n",
       "      <td>0.008297</td>\n",
       "      <td>0.00861</td>\n",
       "      <td>0.013002</td>\n",
       "    </tr>\n",
       "    <tr>\n",
       "      <th>134832</th>\n",
       "      <td>0.003001</td>\n",
       "      <td>0.00320</td>\n",
       "      <td>0.006751</td>\n",
       "    </tr>\n",
       "    <tr>\n",
       "      <th>67756</th>\n",
       "      <td>0.002301</td>\n",
       "      <td>0.00210</td>\n",
       "      <td>0.005756</td>\n",
       "    </tr>\n",
       "  </tbody>\n",
       "</table>\n",
       "</div>"
      ],
      "text/plain": [
       "        Power method ranks  MCMC ranks  Frank-Wolfe ranks\n",
       "226411            0.009268     0.00949           0.017018\n",
       "89073             0.011303     0.01098           0.014978\n",
       "241454            0.008297     0.00861           0.013002\n",
       "134832            0.003001     0.00320           0.006751\n",
       "67756             0.002301     0.00210           0.005756"
      ]
     },
     "execution_count": 38,
     "metadata": {},
     "output_type": "execute_result"
    }
   ],
   "source": [
    "df['Frank-Wolfe ranks'] = fw_ranks\n",
    "df.sort_values(by='Frank-Wolfe ranks', ascending=False).head()"
   ]
  },
  {
   "cell_type": "code",
   "execution_count": 40,
   "metadata": {},
   "outputs": [
    {
     "data": {
      "text/plain": [
       "0.016087932448429067"
      ]
     },
     "execution_count": 40,
     "metadata": {},
     "output_type": "execute_result"
    }
   ],
   "source": [
    "np.linalg.norm(fw_ranks - pm_ranks)"
   ]
  },
  {
   "cell_type": "code",
   "execution_count": 41,
   "metadata": {},
   "outputs": [
    {
     "data": {
      "text/plain": [
       "0.0040994712318936834"
      ]
     },
     "execution_count": 41,
     "metadata": {},
     "output_type": "execute_result"
    }
   ],
   "source": [
    "np.linalg.norm(mcmc_ranks - pm_ranks)"
   ]
  },
  {
   "cell_type": "markdown",
   "metadata": {},
   "source": [
    "# English Wikipedia"
   ]
  },
  {
   "cell_type": "markdown",
   "metadata": {},
   "source": [
    "## Compute"
   ]
  },
  {
   "cell_type": "code",
   "execution_count": 42,
   "metadata": {},
   "outputs": [],
   "source": [
    "wiki = PageRankGraph(data=wiki_matrix)"
   ]
  },
  {
   "cell_type": "code",
   "execution_count": 44,
   "metadata": {},
   "outputs": [],
   "source": [
    "x0 = np.random.uniform(size=wiki.size)\n",
    "x0 /= np.linalg.norm(x0, ord=1)\n",
    "n_iter = 200\n",
    "wiki_pm_ranks, wiki_pm_residuals = wiki.power_method(x0=x0, n_iter=n_iter, return_residuals=True)"
   ]
  },
  {
   "cell_type": "code",
   "execution_count": 49,
   "metadata": {},
   "outputs": [],
   "source": [
    "wiki_mcmc_ranks = wiki.mcmc(n_iter=int(1e5))"
   ]
  },
  {
   "cell_type": "code",
   "execution_count": 50,
   "metadata": {},
   "outputs": [
    {
     "data": {
      "text/html": [
       "<div>\n",
       "<style scoped>\n",
       "    .dataframe tbody tr th:only-of-type {\n",
       "        vertical-align: middle;\n",
       "    }\n",
       "\n",
       "    .dataframe tbody tr th {\n",
       "        vertical-align: top;\n",
       "    }\n",
       "\n",
       "    .dataframe thead th {\n",
       "        text-align: right;\n",
       "    }\n",
       "</style>\n",
       "<table border=\"1\" class=\"dataframe\">\n",
       "  <thead>\n",
       "    <tr style=\"text-align: right;\">\n",
       "      <th></th>\n",
       "      <th>Power Method ranks</th>\n",
       "      <th>MCMC ranks</th>\n",
       "    </tr>\n",
       "  </thead>\n",
       "  <tbody>\n",
       "    <tr>\n",
       "      <th>880</th>\n",
       "      <td>0.002905</td>\n",
       "      <td>0.00309</td>\n",
       "    </tr>\n",
       "    <tr>\n",
       "      <th>69741</th>\n",
       "      <td>0.002068</td>\n",
       "      <td>0.00247</td>\n",
       "    </tr>\n",
       "    <tr>\n",
       "      <th>113673</th>\n",
       "      <td>0.001544</td>\n",
       "      <td>0.00169</td>\n",
       "    </tr>\n",
       "    <tr>\n",
       "      <th>486</th>\n",
       "      <td>0.001356</td>\n",
       "      <td>0.00145</td>\n",
       "    </tr>\n",
       "    <tr>\n",
       "      <th>34525</th>\n",
       "      <td>0.001286</td>\n",
       "      <td>0.00133</td>\n",
       "    </tr>\n",
       "  </tbody>\n",
       "</table>\n",
       "</div>"
      ],
      "text/plain": [
       "        Power Method ranks  MCMC ranks\n",
       "880               0.002905     0.00309\n",
       "69741             0.002068     0.00247\n",
       "113673            0.001544     0.00169\n",
       "486               0.001356     0.00145\n",
       "34525             0.001286     0.00133"
      ]
     },
     "execution_count": 50,
     "metadata": {},
     "output_type": "execute_result"
    }
   ],
   "source": [
    "wiki_df = pd.DataFrame(index=np.arange(1, wiki.size + 1))\n",
    "wiki_df['Power Method ranks'] = wiki_pm_ranks\n",
    "wiki_df['MCMC ranks'] = wiki_mcmc_ranks\n",
    "wiki_df.sort_values(by='Power Method ranks', ascending=False).head()"
   ]
  },
  {
   "cell_type": "code",
   "execution_count": 112,
   "metadata": {},
   "outputs": [],
   "source": [
    "wiki_fw_ranks, wiki_fw_targets, wiki_fw_residuals = wiki.frank_wolfe(x0, n_iter=1000, step='line_search', \n",
    "                                                                     return_targets=True, return_residuals=True)\n"
   ]
  },
  {
   "cell_type": "markdown",
   "metadata": {},
   "source": [
    "## Results"
   ]
  },
  {
   "cell_type": "code",
   "execution_count": 57,
   "metadata": {},
   "outputs": [],
   "source": [
    "top_k = 5\n",
    "pm_top_indices = np.argsort(wiki_pm_ranks)[-top_k:]\n",
    "mcmc_top_indices = np.argsort(wiki_mcmc_ranks)[-top_k:]\n",
    "#fw_top_indices = np.sort(wiki_fw_ranks)[-top_k:]"
   ]
  },
  {
   "cell_type": "code",
   "execution_count": 58,
   "metadata": {},
   "outputs": [
    {
     "data": {
      "text/plain": [
       "array([ 34524,    485, 113672,  69740,    879])"
      ]
     },
     "execution_count": 58,
     "metadata": {},
     "output_type": "execute_result"
    }
   ],
   "source": [
    "pm_top_indices"
   ]
  },
  {
   "cell_type": "code",
   "execution_count": 59,
   "metadata": {},
   "outputs": [
    {
     "name": "stdout",
     "output_type": "stream",
     "text": [
      "Top wiki articles, according to ranks derived with power method\n",
      "1. United_States\n",
      "2. Multimedia\n",
      "3. Geographic_coordinate_system\n",
      "4. France\n",
      "5. Americans\n",
      "\n",
      "Top wiki articles, according to ranks derived with MCMC method\n",
      "1. United_States\n",
      "2. Multimedia\n",
      "3. Geographic_coordinate_system\n",
      "4. France\n",
      "5. Internet_Movie_Database\n",
      "\n"
     ]
    }
   ],
   "source": [
    "print('Top wiki articles, according to ranks derived with power method')\n",
    "for i in range(top_k):\n",
    "    print(\"{}. {}\".format(i + 1, articles[pm_top_indices[top_k - 1 - i]]))\n",
    "print()\n",
    "\n",
    "print('Top wiki articles, according to ranks derived with MCMC method')\n",
    "for i in range(top_k):\n",
    "    print(\"{}. {}\".format(i + 1, articles[mcmc_top_indices[top_k - 1 - i]]))\n",
    "print()\n",
    "\n",
    "#print('Top wiki articles, according to ranks derived with Frank-Wolfe method')\n",
    "#for i in range(top_k):\n",
    "#    print(\"{}. {}\".format(i + 1, articles[fw_top_indices[top_k - 1 - i]]))\n",
    "#print()"
   ]
  }
 ],
 "metadata": {
  "kernelspec": {
   "display_name": "Python 3",
   "language": "python",
   "name": "python3"
  },
  "language_info": {
   "codemirror_mode": {
    "name": "ipython",
    "version": 3
   },
   "file_extension": ".py",
   "mimetype": "text/x-python",
   "name": "python",
   "nbconvert_exporter": "python",
   "pygments_lexer": "ipython3",
   "version": "3.6.4"
  },
  "toc": {
   "nav_menu": {},
   "number_sections": false,
   "sideBar": true,
   "skip_h1_title": false,
   "title_cell": "Table of Contents",
   "title_sidebar": "Contents",
   "toc_cell": false,
   "toc_position": {
    "height": "calc(100% - 180px)",
    "left": "10px",
    "top": "150px",
    "width": "199px"
   },
   "toc_section_display": true,
   "toc_window_display": true
  }
 },
 "nbformat": 4,
 "nbformat_minor": 2
}
